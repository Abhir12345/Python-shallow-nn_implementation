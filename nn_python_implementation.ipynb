{
  "nbformat": 4,
  "nbformat_minor": 0,
  "metadata": {
    "colab": {
      "provenance": []
    },
    "kernelspec": {
      "name": "python3",
      "display_name": "Python 3"
    },
    "language_info": {
      "name": "python"
    }
  },
  "cells": [
    {
      "cell_type": "code",
      "execution_count": 107,
      "metadata": {
        "id": "g0Oze9y1k8s1",
        "colab": {
          "base_uri": "https://localhost:8080/"
        },
        "outputId": "fe649a45-5b26-4928-a55e-85871f6863a2"
      },
      "outputs": [
        {
          "output_type": "stream",
          "name": "stdout",
          "text": [
            "The autoreload extension is already loaded. To reload it, use:\n",
            "  %reload_ext autoreload\n"
          ]
        }
      ],
      "source": [
        "import numpy as np\n",
        "import copy\n",
        "import matplotlib.pyplot as plt\n",
        "import sklearn\n",
        "import sklearn.datasets\n",
        "import sklearn.linear_model\n",
        "import seaborn as sns\n",
        "%matplotlib inline\n",
        "\n",
        "%load_ext autoreload\n",
        "%autoreload 2"
      ]
    },
    {
      "cell_type": "markdown",
      "source": [
        "# Making a custom neural network, with a single hidden layer.\n"
      ],
      "metadata": {
        "id": "dwhWmNkZxBR5"
      }
    },
    {
      "cell_type": "markdown",
      "source": [
        "1. Define the neural network structure ( # of input units,  # of hidden units, etc).\n",
        "2. Initialize the model's parameters\n",
        "3. Loop:\n",
        "    - Implement forward propagation\n",
        "    - Compute loss\n",
        "    - Implement backward propagation to get the gradients\n",
        "    - Update parameters (gradient descent)"
      ],
      "metadata": {
        "id": "ifakDbNiUPy5"
      }
    },
    {
      "cell_type": "code",
      "source": [
        "from sklearn.datasets import make_moons\n",
        "X, y = make_moons(n_samples=1000, noise=0.1, random_state=0)"
      ],
      "metadata": {
        "id": "X_69ShO5ZrrC"
      },
      "execution_count": 108,
      "outputs": []
    },
    {
      "cell_type": "code",
      "source": [
        "# Sigmoid activation function\n",
        "def sigmoid(x):\n",
        "    return 1 / (1 + np.exp(-x))"
      ],
      "metadata": {
        "id": "oaqFjqFhZ_oI"
      },
      "execution_count": 109,
      "outputs": []
    },
    {
      "cell_type": "code",
      "source": [
        "X = X.T\n",
        "y = y.reshape(1, -1)  # Reshape y to (1, m)\n",
        "\n",
        "# Define neural network structure\n",
        "def layer_sizes(X, y):\n",
        "    n_x = X.shape[0]  # Number of features\n",
        "    n_h = 5  # Hidden layer neurons\n",
        "    n_y = 1  # Binary classification output\n",
        "    return (n_x, n_h, n_y)\n",
        "\n",
        "# Initialize parameters\n",
        "def initialize_parameters(n_x, n_h, n_y):\n",
        "    np.random.seed(42)\n",
        "    W1 = np.random.randn(n_h, n_x) * 0.01\n",
        "    b1 = np.zeros((n_h, 1))\n",
        "    W2 = np.random.randn(n_y, n_h) * 0.01\n",
        "    b2 = np.zeros((n_y, 1))\n",
        "    return {\"W1\": W1, \"b1\": b1, \"W2\": W2, \"b2\": b2}\n",
        "\n",
        "# Forward propagation\n",
        "def forward_propagation(X, params):\n",
        "    W1, b1, W2, b2 = params[\"W1\"], params[\"b1\"], params[\"W2\"], params[\"b2\"]\n",
        "\n",
        "    Z1 = np.dot(W1, X) + b1\n",
        "    A1 = np.tanh(Z1)\n",
        "    Z2 = np.dot(W2, A1) + b2\n",
        "    A2 = sigmoid(Z2)\n",
        "\n",
        "    return {\"Z1\": Z1, \"A1\": A1, \"Z2\": Z2, \"A2\": A2}\n",
        "\n",
        "# Compute loss\n",
        "def compute_loss(A2, Y):\n",
        "    m = Y.shape[1]\n",
        "    loss = -np.sum(Y * np.log(A2) + (1 - Y) * np.log(1 - A2)) / m\n",
        "    return np.squeeze(loss)\n",
        "\n",
        "# Backpropagation\n",
        "def backpropagation(params, prop_calc, X, Y):\n",
        "    m = Y.shape[1]\n",
        "    W2 = params[\"W2\"]\n",
        "    A1, A2 = prop_calc[\"A1\"], prop_calc[\"A2\"]\n",
        "\n",
        "    dZ2 = A2 - Y\n",
        "    dW2 = np.dot(dZ2, A1.T) / m\n",
        "    db2 = np.sum(dZ2, axis=1, keepdims=True) / m\n",
        "    dZ1 = np.dot(W2.T, dZ2) * (1 - np.power(A1, 2))\n",
        "    dW1 = np.dot(dZ1, X.T) / m\n",
        "    db1 = np.sum(dZ1, axis=1, keepdims=True) / m\n",
        "\n",
        "    return {\"dW1\": dW1, \"db1\": db1, \"dW2\": dW2, \"db2\": db2}\n",
        "\n",
        "# Update parameters\n",
        "def update_params(params, grads, learning_rate=0.2):\n",
        "    for key in params.keys():\n",
        "        params[key] -= learning_rate * grads[\"d\" + key]\n",
        "    return params\n",
        "\n",
        "# Training the neural network\n",
        "def nn_model(X, Y, n_h, num_iterations=10000, print_cost=True):\n",
        "    np.random.seed(3)\n",
        "    n_x, _, n_y = layer_sizes(X, Y)\n",
        "    params = initialize_parameters(n_x, n_h, n_y)\n",
        "    losses = []\n",
        "\n",
        "    for i in range(num_iterations):\n",
        "        prop_calc = forward_propagation(X, params)\n",
        "        loss = compute_loss(prop_calc[\"A2\"], Y)\n",
        "        losses.append(loss)\n",
        "        grads = backpropagation(params, prop_calc, X, Y)\n",
        "        params = update_params(params, grads)\n",
        "\n",
        "        if print_cost and i % 1000 == 0:\n",
        "            print(f\"Cost after iteration {i}: {loss:.6f}\")\n",
        "\n",
        "    return params, losses\n",
        "\n",
        "# Train the model\n",
        "params, losses = nn_model(X, y, n_h=5, num_iterations=10000, print_cost=True)\n"
      ],
      "metadata": {
        "colab": {
          "base_uri": "https://localhost:8080/"
        },
        "id": "L_8oTHk2eLDb",
        "outputId": "6f61dba9-9204-45cb-87e9-6d0af98b9f03"
      },
      "execution_count": 110,
      "outputs": [
        {
          "output_type": "stream",
          "name": "stdout",
          "text": [
            "Cost after iteration 0: 0.693157\n",
            "Cost after iteration 1000: 0.256004\n",
            "Cost after iteration 2000: 0.254373\n",
            "Cost after iteration 3000: 0.253341\n",
            "Cost after iteration 4000: 0.252139\n",
            "Cost after iteration 5000: 0.249882\n",
            "Cost after iteration 6000: 0.080539\n",
            "Cost after iteration 7000: 0.025338\n",
            "Cost after iteration 8000: 0.015133\n",
            "Cost after iteration 9000: 0.011070\n"
          ]
        }
      ]
    },
    {
      "cell_type": "code",
      "source": [
        "sns.scatterplot(x = np.arange(len(losses)), y = losses)\n",
        "plt.xlabel(\"Iteration\")\n",
        "plt.ylabel(\"Loss\")\n",
        "plt.title(\"Loss vs. Iteration\")\n",
        "plt.show()"
      ],
      "metadata": {
        "colab": {
          "base_uri": "https://localhost:8080/",
          "height": 472
        },
        "id": "B6WlltHfeQk6",
        "outputId": "67417f06-1681-4fcb-cace-fdff4374faa0"
      },
      "execution_count": 115,
      "outputs": [
        {
          "output_type": "display_data",
          "data": {
            "text/plain": [
              "<Figure size 640x480 with 1 Axes>"
            ],
            "image/png": "[encoded data removed]"
          },
          "metadata": {}
        }
      ]
    },
    {
      "cell_type": "code",
      "source": [
        "from sklearn.metrics import accuracy_score\n",
        "# Make predictions\n",
        "def predict(X, params):\n",
        "    prop_calc = forward_propagation(X, params)\n",
        "    predictions = (prop_calc[\"A2\"] > 0.5).astype(int)\n",
        "    return predictions"
      ],
      "metadata": {
        "id": "RwPhVgRgeaJ_"
      },
      "execution_count": 116,
      "outputs": []
    },
    {
      "cell_type": "code",
      "source": [
        "predictions = predict(X, params)\n",
        "accuracy = accuracy_score(y.flatten(), predictions.flatten())\n",
        "print(f\"Accuracy: {accuracy * 100:.2f}%\")"
      ],
      "metadata": {
        "colab": {
          "base_uri": "https://localhost:8080/"
        },
        "id": "L1fnB4lQfA8j",
        "outputId": "3dbf3292-8781-42cf-d26f-9c28ddbf357d"
      },
      "execution_count": 117,
      "outputs": [
        {
          "output_type": "stream",
          "name": "stdout",
          "text": [
            "Accuracy: 99.90%\n"
          ]
        }
      ]
    },
    {
      "cell_type": "code",
      "source": [
        "from sklearn.metrics import confusion_matrix\n",
        "cm = confusion_matrix(y.flatten(), predictions.flatten())\n",
        "sns.heatmap(cm, annot=True, fmt='d')\n",
        "plt.xlabel('Predicted')\n",
        "plt.ylabel('True')\n",
        "plt.title('Confusion Matrix')\n",
        "plt.show();"
      ],
      "metadata": {
        "colab": {
          "base_uri": "https://localhost:8080/",
          "height": 472
        },
        "id": "LJKfUNiAfDpx",
        "outputId": "22150052-cfe9-4958-c20b-4625c7568dcf"
      },
      "execution_count": 118,
      "outputs": [
        {
          "output_type": "display_data",
          "data": {
            "text/plain": [
              "<Figure size 640x480 with 2 Axes>"
            ],
            "image/png": "[encoded data removed]"
          },
          "metadata": {}
        }
      ]
    },
    {
      "cell_type": "code",
      "source": [],
      "metadata": {
        "id": "dLwJRJRjfImx"
      },
      "execution_count": null,
      "outputs": []
    }
  ]
}